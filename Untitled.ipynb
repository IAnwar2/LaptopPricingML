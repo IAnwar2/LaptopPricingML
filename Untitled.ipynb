{
 "cells": [
  {
   "cell_type": "code",
   "execution_count": 2,
   "id": "0297178c",
   "metadata": {},
   "outputs": [],
   "source": [
    "import pandas as pd\n",
    "import matplotlib.pyplot as plt\n",
    "\n",
    "df = pd.read_csv(\"Cleaned_Laptop_data.csv\")"
   ]
  },
  {
   "cell_type": "code",
   "execution_count": 3,
   "id": "8d9116ef",
   "metadata": {},
   "outputs": [
    {
     "data": {
      "text/html": [
       "<div>\n",
       "<style scoped>\n",
       "    .dataframe tbody tr th:only-of-type {\n",
       "        vertical-align: middle;\n",
       "    }\n",
       "\n",
       "    .dataframe tbody tr th {\n",
       "        vertical-align: top;\n",
       "    }\n",
       "\n",
       "    .dataframe thead th {\n",
       "        text-align: right;\n",
       "    }\n",
       "</style>\n",
       "<table border=\"1\" class=\"dataframe\">\n",
       "  <thead>\n",
       "    <tr style=\"text-align: right;\">\n",
       "      <th></th>\n",
       "      <th>brand</th>\n",
       "      <th>model</th>\n",
       "      <th>processor_brand</th>\n",
       "      <th>processor_name</th>\n",
       "      <th>processor_gnrtn</th>\n",
       "      <th>ram_gb</th>\n",
       "      <th>ram_type</th>\n",
       "      <th>ssd</th>\n",
       "      <th>hdd</th>\n",
       "      <th>os</th>\n",
       "      <th>...</th>\n",
       "      <th>display_size</th>\n",
       "      <th>warranty</th>\n",
       "      <th>Touchscreen</th>\n",
       "      <th>msoffice</th>\n",
       "      <th>latest_price</th>\n",
       "      <th>old_price</th>\n",
       "      <th>discount</th>\n",
       "      <th>star_rating</th>\n",
       "      <th>ratings</th>\n",
       "      <th>reviews</th>\n",
       "    </tr>\n",
       "  </thead>\n",
       "  <tbody>\n",
       "    <tr>\n",
       "      <th>0</th>\n",
       "      <td>Lenovo</td>\n",
       "      <td>A6-9225</td>\n",
       "      <td>AMD</td>\n",
       "      <td>A6-9225 Processor</td>\n",
       "      <td>10th</td>\n",
       "      <td>4 GB GB</td>\n",
       "      <td>DDR4</td>\n",
       "      <td>0 GB</td>\n",
       "      <td>1024 GB</td>\n",
       "      <td>Windows</td>\n",
       "      <td>...</td>\n",
       "      <td>Missing</td>\n",
       "      <td>0</td>\n",
       "      <td>No</td>\n",
       "      <td>No</td>\n",
       "      <td>24990</td>\n",
       "      <td>32790</td>\n",
       "      <td>23</td>\n",
       "      <td>3.7</td>\n",
       "      <td>63</td>\n",
       "      <td>12</td>\n",
       "    </tr>\n",
       "    <tr>\n",
       "      <th>1</th>\n",
       "      <td>Lenovo</td>\n",
       "      <td>Ideapad</td>\n",
       "      <td>AMD</td>\n",
       "      <td>APU Dual</td>\n",
       "      <td>10th</td>\n",
       "      <td>4 GB GB</td>\n",
       "      <td>DDR4</td>\n",
       "      <td>0 GB</td>\n",
       "      <td>512 GB</td>\n",
       "      <td>Windows</td>\n",
       "      <td>...</td>\n",
       "      <td>Missing</td>\n",
       "      <td>0</td>\n",
       "      <td>No</td>\n",
       "      <td>No</td>\n",
       "      <td>19590</td>\n",
       "      <td>21325</td>\n",
       "      <td>8</td>\n",
       "      <td>3.6</td>\n",
       "      <td>1894</td>\n",
       "      <td>256</td>\n",
       "    </tr>\n",
       "    <tr>\n",
       "      <th>2</th>\n",
       "      <td>Avita</td>\n",
       "      <td>PURA</td>\n",
       "      <td>AMD</td>\n",
       "      <td>APU Dual</td>\n",
       "      <td>10th</td>\n",
       "      <td>4 GB GB</td>\n",
       "      <td>DDR4</td>\n",
       "      <td>128 GB</td>\n",
       "      <td>0 GB</td>\n",
       "      <td>Windows</td>\n",
       "      <td>...</td>\n",
       "      <td>Missing</td>\n",
       "      <td>0</td>\n",
       "      <td>No</td>\n",
       "      <td>No</td>\n",
       "      <td>19990</td>\n",
       "      <td>27990</td>\n",
       "      <td>28</td>\n",
       "      <td>3.7</td>\n",
       "      <td>1153</td>\n",
       "      <td>159</td>\n",
       "    </tr>\n",
       "    <tr>\n",
       "      <th>3</th>\n",
       "      <td>Avita</td>\n",
       "      <td>PURA</td>\n",
       "      <td>AMD</td>\n",
       "      <td>APU Dual</td>\n",
       "      <td>10th</td>\n",
       "      <td>4 GB GB</td>\n",
       "      <td>DDR4</td>\n",
       "      <td>128 GB</td>\n",
       "      <td>0 GB</td>\n",
       "      <td>Windows</td>\n",
       "      <td>...</td>\n",
       "      <td>Missing</td>\n",
       "      <td>0</td>\n",
       "      <td>No</td>\n",
       "      <td>No</td>\n",
       "      <td>21490</td>\n",
       "      <td>27990</td>\n",
       "      <td>23</td>\n",
       "      <td>3.7</td>\n",
       "      <td>1153</td>\n",
       "      <td>159</td>\n",
       "    </tr>\n",
       "    <tr>\n",
       "      <th>4</th>\n",
       "      <td>Avita</td>\n",
       "      <td>PURA</td>\n",
       "      <td>AMD</td>\n",
       "      <td>APU Dual</td>\n",
       "      <td>10th</td>\n",
       "      <td>4 GB GB</td>\n",
       "      <td>DDR4</td>\n",
       "      <td>256 GB</td>\n",
       "      <td>0 GB</td>\n",
       "      <td>Windows</td>\n",
       "      <td>...</td>\n",
       "      <td>Missing</td>\n",
       "      <td>0</td>\n",
       "      <td>No</td>\n",
       "      <td>No</td>\n",
       "      <td>24990</td>\n",
       "      <td>33490</td>\n",
       "      <td>25</td>\n",
       "      <td>3.7</td>\n",
       "      <td>1657</td>\n",
       "      <td>234</td>\n",
       "    </tr>\n",
       "  </tbody>\n",
       "</table>\n",
       "<p>5 rows × 23 columns</p>\n",
       "</div>"
      ],
      "text/plain": [
       "    brand    model processor_brand     processor_name processor_gnrtn  \\\n",
       "0  Lenovo  A6-9225             AMD  A6-9225 Processor            10th   \n",
       "1  Lenovo  Ideapad             AMD           APU Dual            10th   \n",
       "2   Avita     PURA             AMD           APU Dual            10th   \n",
       "3   Avita     PURA             AMD           APU Dual            10th   \n",
       "4   Avita     PURA             AMD           APU Dual            10th   \n",
       "\n",
       "    ram_gb ram_type     ssd      hdd       os  ... display_size  warranty  \\\n",
       "0  4 GB GB     DDR4    0 GB  1024 GB  Windows  ...      Missing         0   \n",
       "1  4 GB GB     DDR4    0 GB   512 GB  Windows  ...      Missing         0   \n",
       "2  4 GB GB     DDR4  128 GB     0 GB  Windows  ...      Missing         0   \n",
       "3  4 GB GB     DDR4  128 GB     0 GB  Windows  ...      Missing         0   \n",
       "4  4 GB GB     DDR4  256 GB     0 GB  Windows  ...      Missing         0   \n",
       "\n",
       "  Touchscreen msoffice  latest_price old_price discount  star_rating  ratings  \\\n",
       "0          No       No         24990     32790       23          3.7       63   \n",
       "1          No       No         19590     21325        8          3.6     1894   \n",
       "2          No       No         19990     27990       28          3.7     1153   \n",
       "3          No       No         21490     27990       23          3.7     1153   \n",
       "4          No       No         24990     33490       25          3.7     1657   \n",
       "\n",
       "   reviews  \n",
       "0       12  \n",
       "1      256  \n",
       "2      159  \n",
       "3      159  \n",
       "4      234  \n",
       "\n",
       "[5 rows x 23 columns]"
      ]
     },
     "execution_count": 3,
     "metadata": {},
     "output_type": "execute_result"
    }
   ],
   "source": [
    "df.head()"
   ]
  },
  {
   "cell_type": "code",
   "execution_count": 4,
   "id": "fef28244",
   "metadata": {
    "scrolled": true
   },
   "outputs": [
    {
     "data": {
      "text/html": [
       "<div>\n",
       "<style scoped>\n",
       "    .dataframe tbody tr th:only-of-type {\n",
       "        vertical-align: middle;\n",
       "    }\n",
       "\n",
       "    .dataframe tbody tr th {\n",
       "        vertical-align: top;\n",
       "    }\n",
       "\n",
       "    .dataframe thead th {\n",
       "        text-align: right;\n",
       "    }\n",
       "</style>\n",
       "<table border=\"1\" class=\"dataframe\">\n",
       "  <thead>\n",
       "    <tr style=\"text-align: right;\">\n",
       "      <th></th>\n",
       "      <th>processor_name</th>\n",
       "      <th>ram_gb</th>\n",
       "      <th>ssd</th>\n",
       "      <th>os</th>\n",
       "      <th>os_bit</th>\n",
       "      <th>graphic_card_gb</th>\n",
       "      <th>weight</th>\n",
       "      <th>display_size</th>\n",
       "      <th>Touchscreen</th>\n",
       "      <th>price</th>\n",
       "    </tr>\n",
       "  </thead>\n",
       "  <tbody>\n",
       "    <tr>\n",
       "      <th>0</th>\n",
       "      <td>A6-9225 Processor</td>\n",
       "      <td>4 GB GB</td>\n",
       "      <td>0 GB</td>\n",
       "      <td>Windows</td>\n",
       "      <td>64-bit</td>\n",
       "      <td>0</td>\n",
       "      <td>ThinNlight</td>\n",
       "      <td>Missing</td>\n",
       "      <td>No</td>\n",
       "      <td>24990</td>\n",
       "    </tr>\n",
       "    <tr>\n",
       "      <th>1</th>\n",
       "      <td>APU Dual</td>\n",
       "      <td>4 GB GB</td>\n",
       "      <td>0 GB</td>\n",
       "      <td>Windows</td>\n",
       "      <td>64-bit</td>\n",
       "      <td>0</td>\n",
       "      <td>Casual</td>\n",
       "      <td>Missing</td>\n",
       "      <td>No</td>\n",
       "      <td>19590</td>\n",
       "    </tr>\n",
       "    <tr>\n",
       "      <th>2</th>\n",
       "      <td>APU Dual</td>\n",
       "      <td>4 GB GB</td>\n",
       "      <td>128 GB</td>\n",
       "      <td>Windows</td>\n",
       "      <td>64-bit</td>\n",
       "      <td>0</td>\n",
       "      <td>ThinNlight</td>\n",
       "      <td>Missing</td>\n",
       "      <td>No</td>\n",
       "      <td>19990</td>\n",
       "    </tr>\n",
       "    <tr>\n",
       "      <th>3</th>\n",
       "      <td>APU Dual</td>\n",
       "      <td>4 GB GB</td>\n",
       "      <td>128 GB</td>\n",
       "      <td>Windows</td>\n",
       "      <td>64-bit</td>\n",
       "      <td>0</td>\n",
       "      <td>ThinNlight</td>\n",
       "      <td>Missing</td>\n",
       "      <td>No</td>\n",
       "      <td>21490</td>\n",
       "    </tr>\n",
       "    <tr>\n",
       "      <th>4</th>\n",
       "      <td>APU Dual</td>\n",
       "      <td>4 GB GB</td>\n",
       "      <td>256 GB</td>\n",
       "      <td>Windows</td>\n",
       "      <td>64-bit</td>\n",
       "      <td>0</td>\n",
       "      <td>ThinNlight</td>\n",
       "      <td>Missing</td>\n",
       "      <td>No</td>\n",
       "      <td>24990</td>\n",
       "    </tr>\n",
       "  </tbody>\n",
       "</table>\n",
       "</div>"
      ],
      "text/plain": [
       "      processor_name   ram_gb     ssd       os  os_bit  graphic_card_gb  \\\n",
       "0  A6-9225 Processor  4 GB GB    0 GB  Windows  64-bit                0   \n",
       "1           APU Dual  4 GB GB    0 GB  Windows  64-bit                0   \n",
       "2           APU Dual  4 GB GB  128 GB  Windows  64-bit                0   \n",
       "3           APU Dual  4 GB GB  128 GB  Windows  64-bit                0   \n",
       "4           APU Dual  4 GB GB  256 GB  Windows  64-bit                0   \n",
       "\n",
       "       weight display_size Touchscreen  price  \n",
       "0  ThinNlight      Missing          No  24990  \n",
       "1      Casual      Missing          No  19590  \n",
       "2  ThinNlight      Missing          No  19990  \n",
       "3  ThinNlight      Missing          No  21490  \n",
       "4  ThinNlight      Missing          No  24990  "
      ]
     },
     "execution_count": 4,
     "metadata": {},
     "output_type": "execute_result"
    }
   ],
   "source": [
    "df = df[[\"processor_name\", \"ram_gb\", \"ssd\", \"os\", \"os_bit\", \"graphic_card_gb\", \"weight\", \"display_size\", \"Touchscreen\", \"latest_price\"]]\n",
    "df = df.rename({\"latest_price\": \"price\"}, axis=1)\n",
    "df.head()"
   ]
  },
  {
   "cell_type": "code",
   "execution_count": 5,
   "id": "abdfe99e",
   "metadata": {},
   "outputs": [],
   "source": [
    "df = df.loc[df[\"display_size\"] != \"Missing\"]"
   ]
  },
  {
   "cell_type": "code",
   "execution_count": 6,
   "id": "13381763",
   "metadata": {},
   "outputs": [
    {
     "data": {
      "text/html": [
       "<div>\n",
       "<style scoped>\n",
       "    .dataframe tbody tr th:only-of-type {\n",
       "        vertical-align: middle;\n",
       "    }\n",
       "\n",
       "    .dataframe tbody tr th {\n",
       "        vertical-align: top;\n",
       "    }\n",
       "\n",
       "    .dataframe thead th {\n",
       "        text-align: right;\n",
       "    }\n",
       "</style>\n",
       "<table border=\"1\" class=\"dataframe\">\n",
       "  <thead>\n",
       "    <tr style=\"text-align: right;\">\n",
       "      <th></th>\n",
       "      <th>processor_name</th>\n",
       "      <th>ram_gb</th>\n",
       "      <th>ssd</th>\n",
       "      <th>os</th>\n",
       "      <th>os_bit</th>\n",
       "      <th>graphic_card_gb</th>\n",
       "      <th>weight</th>\n",
       "      <th>display_size</th>\n",
       "      <th>Touchscreen</th>\n",
       "      <th>price</th>\n",
       "    </tr>\n",
       "  </thead>\n",
       "  <tbody>\n",
       "    <tr>\n",
       "      <th>5</th>\n",
       "      <td>APU Dual</td>\n",
       "      <td>8 GB GB</td>\n",
       "      <td>256 GB</td>\n",
       "      <td>Windows</td>\n",
       "      <td>64-bit</td>\n",
       "      <td>0</td>\n",
       "      <td>ThinNlight</td>\n",
       "      <td>14</td>\n",
       "      <td>No</td>\n",
       "      <td>24990</td>\n",
       "    </tr>\n",
       "    <tr>\n",
       "      <th>6</th>\n",
       "      <td>APU Dual</td>\n",
       "      <td>4 GB GB</td>\n",
       "      <td>0 GB</td>\n",
       "      <td>Windows</td>\n",
       "      <td>32-bit</td>\n",
       "      <td>0</td>\n",
       "      <td>Casual</td>\n",
       "      <td>14</td>\n",
       "      <td>No</td>\n",
       "      <td>20900</td>\n",
       "    </tr>\n",
       "    <tr>\n",
       "      <th>8</th>\n",
       "      <td>Athlon Dual</td>\n",
       "      <td>32 GB GB</td>\n",
       "      <td>32 GB</td>\n",
       "      <td>Windows</td>\n",
       "      <td>32-bit</td>\n",
       "      <td>4</td>\n",
       "      <td>Casual</td>\n",
       "      <td>14</td>\n",
       "      <td>No</td>\n",
       "      <td>26899</td>\n",
       "    </tr>\n",
       "    <tr>\n",
       "      <th>10</th>\n",
       "      <td>Core i3</td>\n",
       "      <td>4 GB GB</td>\n",
       "      <td>0 GB</td>\n",
       "      <td>Windows</td>\n",
       "      <td>64-bit</td>\n",
       "      <td>0</td>\n",
       "      <td>Casual</td>\n",
       "      <td>15.6</td>\n",
       "      <td>No</td>\n",
       "      <td>34649</td>\n",
       "    </tr>\n",
       "    <tr>\n",
       "      <th>12</th>\n",
       "      <td>Core i3</td>\n",
       "      <td>4 GB GB</td>\n",
       "      <td>0 GB</td>\n",
       "      <td>Windows</td>\n",
       "      <td>64-bit</td>\n",
       "      <td>0</td>\n",
       "      <td>Casual</td>\n",
       "      <td>15.6</td>\n",
       "      <td>No</td>\n",
       "      <td>39999</td>\n",
       "    </tr>\n",
       "    <tr>\n",
       "      <th>...</th>\n",
       "      <td>...</td>\n",
       "      <td>...</td>\n",
       "      <td>...</td>\n",
       "      <td>...</td>\n",
       "      <td>...</td>\n",
       "      <td>...</td>\n",
       "      <td>...</td>\n",
       "      <td>...</td>\n",
       "      <td>...</td>\n",
       "      <td>...</td>\n",
       "    </tr>\n",
       "    <tr>\n",
       "      <th>888</th>\n",
       "      <td>Ryzen 9</td>\n",
       "      <td>4 GB GB</td>\n",
       "      <td>1024 GB</td>\n",
       "      <td>Windows</td>\n",
       "      <td>32-bit</td>\n",
       "      <td>6</td>\n",
       "      <td>Casual</td>\n",
       "      <td>16</td>\n",
       "      <td>No</td>\n",
       "      <td>138990</td>\n",
       "    </tr>\n",
       "    <tr>\n",
       "      <th>890</th>\n",
       "      <td>Ryzen 9</td>\n",
       "      <td>4 GB GB</td>\n",
       "      <td>1024 GB</td>\n",
       "      <td>Windows</td>\n",
       "      <td>64-bit</td>\n",
       "      <td>0</td>\n",
       "      <td>Casual</td>\n",
       "      <td>16</td>\n",
       "      <td>No</td>\n",
       "      <td>135990</td>\n",
       "    </tr>\n",
       "    <tr>\n",
       "      <th>891</th>\n",
       "      <td>Ryzen 9</td>\n",
       "      <td>4 GB GB</td>\n",
       "      <td>1024 GB</td>\n",
       "      <td>Windows</td>\n",
       "      <td>64-bit</td>\n",
       "      <td>0</td>\n",
       "      <td>Casual</td>\n",
       "      <td>16</td>\n",
       "      <td>No</td>\n",
       "      <td>144990</td>\n",
       "    </tr>\n",
       "    <tr>\n",
       "      <th>893</th>\n",
       "      <td>Ryzen 9</td>\n",
       "      <td>4 GB GB</td>\n",
       "      <td>1024 GB</td>\n",
       "      <td>Windows</td>\n",
       "      <td>64-bit</td>\n",
       "      <td>4</td>\n",
       "      <td>Casual</td>\n",
       "      <td>16</td>\n",
       "      <td>No</td>\n",
       "      <td>142990</td>\n",
       "    </tr>\n",
       "    <tr>\n",
       "      <th>895</th>\n",
       "      <td>Ryzen 5</td>\n",
       "      <td>8 GB GB</td>\n",
       "      <td>512 GB</td>\n",
       "      <td>DOS</td>\n",
       "      <td>64-bit</td>\n",
       "      <td>0</td>\n",
       "      <td>ThinNlight</td>\n",
       "      <td>14</td>\n",
       "      <td>No</td>\n",
       "      <td>57490</td>\n",
       "    </tr>\n",
       "  </tbody>\n",
       "</table>\n",
       "<p>564 rows × 10 columns</p>\n",
       "</div>"
      ],
      "text/plain": [
       "    processor_name    ram_gb      ssd       os  os_bit  graphic_card_gb  \\\n",
       "5         APU Dual   8 GB GB   256 GB  Windows  64-bit                0   \n",
       "6         APU Dual   4 GB GB     0 GB  Windows  32-bit                0   \n",
       "8      Athlon Dual  32 GB GB    32 GB  Windows  32-bit                4   \n",
       "10         Core i3   4 GB GB     0 GB  Windows  64-bit                0   \n",
       "12         Core i3   4 GB GB     0 GB  Windows  64-bit                0   \n",
       "..             ...       ...      ...      ...     ...              ...   \n",
       "888        Ryzen 9   4 GB GB  1024 GB  Windows  32-bit                6   \n",
       "890        Ryzen 9   4 GB GB  1024 GB  Windows  64-bit                0   \n",
       "891        Ryzen 9   4 GB GB  1024 GB  Windows  64-bit                0   \n",
       "893        Ryzen 9   4 GB GB  1024 GB  Windows  64-bit                4   \n",
       "895        Ryzen 5   8 GB GB   512 GB      DOS  64-bit                0   \n",
       "\n",
       "         weight display_size Touchscreen   price  \n",
       "5    ThinNlight           14          No   24990  \n",
       "6        Casual           14          No   20900  \n",
       "8        Casual           14          No   26899  \n",
       "10       Casual         15.6          No   34649  \n",
       "12       Casual         15.6          No   39999  \n",
       "..          ...          ...         ...     ...  \n",
       "888      Casual           16          No  138990  \n",
       "890      Casual           16          No  135990  \n",
       "891      Casual           16          No  144990  \n",
       "893      Casual           16          No  142990  \n",
       "895  ThinNlight           14          No   57490  \n",
       "\n",
       "[564 rows x 10 columns]"
      ]
     },
     "execution_count": 6,
     "metadata": {},
     "output_type": "execute_result"
    }
   ],
   "source": [
    "df"
   ]
  },
  {
   "cell_type": "code",
   "execution_count": 7,
   "id": "c09a010c",
   "metadata": {},
   "outputs": [
    {
     "name": "stdout",
     "output_type": "stream",
     "text": [
      "<class 'pandas.core.frame.DataFrame'>\n",
      "Int64Index: 564 entries, 5 to 895\n",
      "Data columns (total 10 columns):\n",
      " #   Column           Non-Null Count  Dtype \n",
      "---  ------           --------------  ----- \n",
      " 0   processor_name   564 non-null    object\n",
      " 1   ram_gb           564 non-null    object\n",
      " 2   ssd              564 non-null    object\n",
      " 3   os               564 non-null    object\n",
      " 4   os_bit           564 non-null    object\n",
      " 5   graphic_card_gb  564 non-null    int64 \n",
      " 6   weight           564 non-null    object\n",
      " 7   display_size     564 non-null    object\n",
      " 8   Touchscreen      564 non-null    object\n",
      " 9   price            564 non-null    int64 \n",
      "dtypes: int64(2), object(8)\n",
      "memory usage: 48.5+ KB\n"
     ]
    }
   ],
   "source": [
    "df.info()"
   ]
  },
  {
   "cell_type": "code",
   "execution_count": 8,
   "id": "15d5eee1",
   "metadata": {},
   "outputs": [
    {
     "data": {
      "text/plain": [
       "processor_name     0\n",
       "ram_gb             0\n",
       "ssd                0\n",
       "os                 0\n",
       "os_bit             0\n",
       "graphic_card_gb    0\n",
       "weight             0\n",
       "display_size       0\n",
       "Touchscreen        0\n",
       "price              0\n",
       "dtype: int64"
      ]
     },
     "execution_count": 8,
     "metadata": {},
     "output_type": "execute_result"
    }
   ],
   "source": [
    "df.dropna()\n",
    "df.isnull().sum()"
   ]
  },
  {
   "cell_type": "code",
   "execution_count": 15,
   "id": "c5507253",
   "metadata": {},
   "outputs": [
    {
     "data": {
      "text/plain": [
       "No     491\n",
       "Yes     73\n",
       "Name: Touchscreen, dtype: int64"
      ]
     },
     "execution_count": 15,
     "metadata": {},
     "output_type": "execute_result"
    }
   ],
   "source": [
    "# Show how many different typs of responses in each feature\n",
    "#df['processor_name'].value_counts()\n",
    "#df['ram_gb'].value_counts()\n",
    "#df['weight'].value_counts()\n",
    "#df['ssd'].value_counts()\n",
    "#df['os'].value_counts()\n",
    "#df['os_bit'].value_counts()\n",
    "#df['graphic_card_gb'].value_counts()\n",
    "#df['display_size'].value_counts()\n",
    "df['Touchscreen'].value_counts()"
   ]
  },
  {
   "cell_type": "code",
   "execution_count": 9,
   "id": "d34410d0",
   "metadata": {},
   "outputs": [],
   "source": [
    "def cutCategories(cate, cut):\n",
    "    categoricalMap = {}\n",
    "    for i in range(len(cate)):\n",
    "        if cate.values[i] >= cut:\n",
    "            categoricalMap[cate.index[i]] = cate.index[i]\n",
    "        else:\n",
    "            categoricalMap[cate.index[i]] = 'other'\n",
    "    return categoricalMap"
   ]
  },
  {
   "cell_type": "code",
   "execution_count": 10,
   "id": "1d7ad3ff",
   "metadata": {},
   "outputs": [
    {
     "data": {
      "text/plain": [
       "Core i5    176\n",
       "Core i3    105\n",
       "Core i7     94\n",
       "Ryzen 5     52\n",
       "Ryzen 7     44\n",
       "other       29\n",
       "M1          24\n",
       "Ryzen 9     21\n",
       "Ryzen 3     19\n",
       "Name: processor_name, dtype: int64"
      ]
     },
     "execution_count": 10,
     "metadata": {},
     "output_type": "execute_result"
    }
   ],
   "source": [
    "processorMap = cutCategories(df.processor_name.value_counts(), 15)\n",
    "df['processor_name'] = df['processor_name'].map(processorMap)\n",
    "df.processor_name.value_counts()"
   ]
  },
  {
   "cell_type": "code",
   "execution_count": 11,
   "id": "e1874de6",
   "metadata": {},
   "outputs": [
    {
     "data": {
      "text/plain": [
       "8 GB GB     318\n",
       "16 GB GB    159\n",
       "4 GB GB      84\n",
       "other         3\n",
       "Name: ram_gb, dtype: int64"
      ]
     },
     "execution_count": 11,
     "metadata": {},
     "output_type": "execute_result"
    }
   ],
   "source": [
    "ramMap = cutCategories(df.ram_gb.value_counts(), 20)\n",
    "df['ram_gb'] = df['ram_gb'].map(ramMap)\n",
    "df.ram_gb.value_counts()"
   ]
  },
  {
   "cell_type": "code",
   "execution_count": 12,
   "id": "05158370",
   "metadata": {},
   "outputs": [
    {
     "data": {
      "text/plain": [
       "512 GB     285\n",
       "256 GB     122\n",
       "1024 GB     94\n",
       "0 GB        57\n",
       "other        6\n",
       "Name: ssd, dtype: int64"
      ]
     },
     "execution_count": 12,
     "metadata": {},
     "output_type": "execute_result"
    }
   ],
   "source": [
    "ssdMap = cutCategories(df.ssd.value_counts(), 20)\n",
    "df['ssd'] = df['ssd'].map(ssdMap)\n",
    "df.ssd.value_counts()"
   ]
  },
  {
   "cell_type": "code",
   "execution_count": 13,
   "id": "74163dfa",
   "metadata": {},
   "outputs": [
    {
     "data": {
      "text/plain": [
       "15.6     218\n",
       "16       135\n",
       "14       131\n",
       "other     40\n",
       "13.3      40\n",
       "Name: display_size, dtype: int64"
      ]
     },
     "execution_count": 13,
     "metadata": {},
     "output_type": "execute_result"
    }
   ],
   "source": [
    "display_sizeMap = cutCategories(df.display_size.value_counts(), 20)\n",
    "df['display_size'] = df['display_size'].map(display_sizeMap)\n",
    "df.display_size.value_counts()"
   ]
  },
  {
   "cell_type": "code",
   "execution_count": 14,
   "id": "45ea45d1",
   "metadata": {},
   "outputs": [],
   "source": [
    "from sklearn.preprocessing import LabelEncoder\n",
    "\n",
    "#df['processor_name'].value_counts()\n",
    "#df['ram_gb'].value_counts()\n",
    "#df['weight'].value_counts()\n",
    "#df['ssd'].value_counts()\n",
    "#df['os'].value_counts()\n",
    "#df['os_bit'].value_counts()\n",
    "#df['display_size'].value_counts()\n",
    "#df['Touchscreen'].value_counts()"
   ]
  },
  {
   "cell_type": "code",
   "execution_count": 15,
   "id": "6a305d8f",
   "metadata": {},
   "outputs": [],
   "source": [
    "le_processor_name = LabelEncoder()\n",
    "le_ram_gb = LabelEncoder()\n",
    "le_weight = LabelEncoder()\n",
    "le_ssd = LabelEncoder()\n",
    "le_os = LabelEncoder()\n",
    "le_os_bit = LabelEncoder()\n",
    "le_display_size = LabelEncoder()\n",
    "le_Touchscreen = LabelEncoder()"
   ]
  },
  {
   "cell_type": "code",
   "execution_count": 16,
   "id": "da736ccf",
   "metadata": {},
   "outputs": [],
   "source": [
    "df['processor_name'] = le_processor_name.fit_transform(df['processor_name'])\n",
    "df['ram_gb'] = le_ram_gb.fit_transform(df['ram_gb'])\n",
    "df['weight'] = le_weight.fit_transform(df['weight'])\n",
    "df['ssd'] = le_ssd.fit_transform(df['ssd'])\n",
    "df['os'] = le_os.fit_transform(df['os'])\n",
    "df['os_bit'] = le_os_bit.fit_transform(df['os_bit'])\n",
    "df['display_size'] = le_display_size.fit_transform(df['display_size'])\n",
    "df['Touchscreen'] = le_Touchscreen.fit_transform(df['Touchscreen'])"
   ]
  },
  {
   "cell_type": "code",
   "execution_count": 17,
   "id": "3e1281ce",
   "metadata": {},
   "outputs": [],
   "source": [
    "#df[\"processor_name\"].unique\n",
    "#df[\"ram_gb\"].unique\n",
    "#df[\"weight\"].unique\n",
    "#df[\"ssd\"].unique\n",
    "#df[\"os\"].unique\n",
    "#df[\"os_bit\"].unique\n",
    "#df[\"display_size\"].unique\n",
    "#df[\"Touchscreen\"].unique"
   ]
  },
  {
   "cell_type": "code",
   "execution_count": 18,
   "id": "747c9047",
   "metadata": {},
   "outputs": [],
   "source": [
    "X = df.drop(\"price\", axis=1)\n",
    "y = df[\"price\"]"
   ]
  },
  {
   "cell_type": "code",
   "execution_count": 19,
   "id": "3fea874e",
   "metadata": {},
   "outputs": [
    {
     "data": {
      "text/plain": [
       "LinearRegression()"
      ]
     },
     "execution_count": 19,
     "metadata": {},
     "output_type": "execute_result"
    }
   ],
   "source": [
    "from sklearn.linear_model import LinearRegression\n",
    "linearReg = LinearRegression()\n",
    "linearReg.fit(X, y.values)"
   ]
  },
  {
   "cell_type": "code",
   "execution_count": 20,
   "id": "04da43e9",
   "metadata": {},
   "outputs": [],
   "source": [
    "yPredicted = linearReg.predict(X)"
   ]
  },
  {
   "cell_type": "code",
   "execution_count": 21,
   "id": "e1c66d78",
   "metadata": {},
   "outputs": [],
   "source": [
    "from sklearn.metrics import mean_squared_error, mean_absolute_error\n",
    "import numpy as np\n",
    "error = np.sqrt(mean_squared_error(y, yPredicted))"
   ]
  },
  {
   "cell_type": "code",
   "execution_count": 22,
   "id": "b39b5e71",
   "metadata": {},
   "outputs": [
    {
     "data": {
      "text/plain": [
       "30317.070316623023"
      ]
     },
     "execution_count": 22,
     "metadata": {},
     "output_type": "execute_result"
    }
   ],
   "source": [
    "error"
   ]
  },
  {
   "cell_type": "code",
   "execution_count": 23,
   "id": "b2cc4d5e",
   "metadata": {},
   "outputs": [
    {
     "data": {
      "text/plain": [
       "DecisionTreeRegressor(random_state=0)"
      ]
     },
     "execution_count": 23,
     "metadata": {},
     "output_type": "execute_result"
    }
   ],
   "source": [
    "from sklearn.tree import DecisionTreeRegressor\n",
    "decTreeReg = DecisionTreeRegressor(random_state=0)\n",
    "decTreeReg.fit(X, y.values)"
   ]
  },
  {
   "cell_type": "code",
   "execution_count": 24,
   "id": "dfb36cac",
   "metadata": {},
   "outputs": [],
   "source": [
    "yPredicted = decTreeReg.predict(X)"
   ]
  },
  {
   "cell_type": "code",
   "execution_count": 25,
   "id": "a89338b5",
   "metadata": {},
   "outputs": [
    {
     "data": {
      "text/plain": [
       "11264.046159118809"
      ]
     },
     "execution_count": 25,
     "metadata": {},
     "output_type": "execute_result"
    }
   ],
   "source": [
    "error = np.sqrt(mean_squared_error(y, yPredicted))\n",
    "error"
   ]
  },
  {
   "cell_type": "code",
   "execution_count": 26,
   "id": "039b3d88",
   "metadata": {},
   "outputs": [
    {
     "data": {
      "text/plain": [
       "RandomForestRegressor(random_state=0)"
      ]
     },
     "execution_count": 26,
     "metadata": {},
     "output_type": "execute_result"
    }
   ],
   "source": [
    "from sklearn.ensemble import RandomForestRegressor\n",
    "randomForestReg = RandomForestRegressor(random_state=0)\n",
    "randomForestReg.fit(X, y.values)"
   ]
  },
  {
   "cell_type": "code",
   "execution_count": 27,
   "id": "adcffffe",
   "metadata": {},
   "outputs": [],
   "source": [
    "yPredicted = randomForestReg.predict(X)"
   ]
  },
  {
   "cell_type": "code",
   "execution_count": 28,
   "id": "5df7ccb9",
   "metadata": {},
   "outputs": [
    {
     "data": {
      "text/plain": [
       "13138.928248772392"
      ]
     },
     "execution_count": 28,
     "metadata": {},
     "output_type": "execute_result"
    }
   ],
   "source": [
    "error = np.sqrt(mean_squared_error(y, yPredicted))\n",
    "error"
   ]
  },
  {
   "cell_type": "code",
   "execution_count": 29,
   "id": "d2cfde9e",
   "metadata": {},
   "outputs": [
    {
     "data": {
      "text/plain": [
       "GridSearchCV(estimator=DecisionTreeRegressor(random_state=0),\n",
       "             param_grid={'max_depth': [None, 2, 4, 6, 8, 10, 12]},\n",
       "             scoring='neg_mean_squared_error')"
      ]
     },
     "execution_count": 29,
     "metadata": {},
     "output_type": "execute_result"
    }
   ],
   "source": [
    "#Select best method/model from training set\n",
    "\n",
    "from sklearn.model_selection import GridSearchCV\n",
    "\n",
    "max_depth = [None, 2,4,6,8,10,12]\n",
    "parameters = {\"max_depth\": max_depth}\n",
    "\n",
    "#DecisionTreeRegressor had the lowest value from the above cases\n",
    "regressor = DecisionTreeRegressor(random_state=0)\n",
    "gs = GridSearchCV(regressor, parameters, scoring='neg_mean_squared_error')\n",
    "gs.fit(X, y.values)"
   ]
  },
  {
   "cell_type": "code",
   "execution_count": 30,
   "id": "ec61ef98",
   "metadata": {},
   "outputs": [],
   "source": [
    "regressor = gs.best_estimator_\n",
    "\n",
    "regressor.fit(X, y.values)\n",
    "yPredicted = regressor.predict(X)\n",
    "error = np.sqrt(mean_squared_error(y, yPredicted))"
   ]
  },
  {
   "cell_type": "code",
   "execution_count": 31,
   "id": "e1418e23",
   "metadata": {},
   "outputs": [
    {
     "data": {
      "text/plain": [
       "14854.368109772622"
      ]
     },
     "execution_count": 31,
     "metadata": {},
     "output_type": "execute_result"
    }
   ],
   "source": [
    "error"
   ]
  },
  {
   "cell_type": "code",
   "execution_count": 32,
   "id": "b4db2383",
   "metadata": {},
   "outputs": [
    {
     "data": {
      "text/html": [
       "<div>\n",
       "<style scoped>\n",
       "    .dataframe tbody tr th:only-of-type {\n",
       "        vertical-align: middle;\n",
       "    }\n",
       "\n",
       "    .dataframe tbody tr th {\n",
       "        vertical-align: top;\n",
       "    }\n",
       "\n",
       "    .dataframe thead th {\n",
       "        text-align: right;\n",
       "    }\n",
       "</style>\n",
       "<table border=\"1\" class=\"dataframe\">\n",
       "  <thead>\n",
       "    <tr style=\"text-align: right;\">\n",
       "      <th></th>\n",
       "      <th>processor_name</th>\n",
       "      <th>ram_gb</th>\n",
       "      <th>ssd</th>\n",
       "      <th>os</th>\n",
       "      <th>os_bit</th>\n",
       "      <th>graphic_card_gb</th>\n",
       "      <th>weight</th>\n",
       "      <th>display_size</th>\n",
       "      <th>Touchscreen</th>\n",
       "    </tr>\n",
       "  </thead>\n",
       "  <tbody>\n",
       "    <tr>\n",
       "      <th>5</th>\n",
       "      <td>8</td>\n",
       "      <td>2</td>\n",
       "      <td>2</td>\n",
       "      <td>2</td>\n",
       "      <td>1</td>\n",
       "      <td>0</td>\n",
       "      <td>2</td>\n",
       "      <td>1</td>\n",
       "      <td>0</td>\n",
       "    </tr>\n",
       "    <tr>\n",
       "      <th>6</th>\n",
       "      <td>8</td>\n",
       "      <td>1</td>\n",
       "      <td>0</td>\n",
       "      <td>2</td>\n",
       "      <td>0</td>\n",
       "      <td>0</td>\n",
       "      <td>0</td>\n",
       "      <td>1</td>\n",
       "      <td>0</td>\n",
       "    </tr>\n",
       "    <tr>\n",
       "      <th>8</th>\n",
       "      <td>8</td>\n",
       "      <td>3</td>\n",
       "      <td>4</td>\n",
       "      <td>2</td>\n",
       "      <td>0</td>\n",
       "      <td>4</td>\n",
       "      <td>0</td>\n",
       "      <td>1</td>\n",
       "      <td>0</td>\n",
       "    </tr>\n",
       "    <tr>\n",
       "      <th>10</th>\n",
       "      <td>0</td>\n",
       "      <td>1</td>\n",
       "      <td>0</td>\n",
       "      <td>2</td>\n",
       "      <td>1</td>\n",
       "      <td>0</td>\n",
       "      <td>0</td>\n",
       "      <td>2</td>\n",
       "      <td>0</td>\n",
       "    </tr>\n",
       "    <tr>\n",
       "      <th>12</th>\n",
       "      <td>0</td>\n",
       "      <td>1</td>\n",
       "      <td>0</td>\n",
       "      <td>2</td>\n",
       "      <td>1</td>\n",
       "      <td>0</td>\n",
       "      <td>0</td>\n",
       "      <td>2</td>\n",
       "      <td>0</td>\n",
       "    </tr>\n",
       "    <tr>\n",
       "      <th>...</th>\n",
       "      <td>...</td>\n",
       "      <td>...</td>\n",
       "      <td>...</td>\n",
       "      <td>...</td>\n",
       "      <td>...</td>\n",
       "      <td>...</td>\n",
       "      <td>...</td>\n",
       "      <td>...</td>\n",
       "      <td>...</td>\n",
       "    </tr>\n",
       "    <tr>\n",
       "      <th>888</th>\n",
       "      <td>7</td>\n",
       "      <td>1</td>\n",
       "      <td>1</td>\n",
       "      <td>2</td>\n",
       "      <td>0</td>\n",
       "      <td>6</td>\n",
       "      <td>0</td>\n",
       "      <td>3</td>\n",
       "      <td>0</td>\n",
       "    </tr>\n",
       "    <tr>\n",
       "      <th>890</th>\n",
       "      <td>7</td>\n",
       "      <td>1</td>\n",
       "      <td>1</td>\n",
       "      <td>2</td>\n",
       "      <td>1</td>\n",
       "      <td>0</td>\n",
       "      <td>0</td>\n",
       "      <td>3</td>\n",
       "      <td>0</td>\n",
       "    </tr>\n",
       "    <tr>\n",
       "      <th>891</th>\n",
       "      <td>7</td>\n",
       "      <td>1</td>\n",
       "      <td>1</td>\n",
       "      <td>2</td>\n",
       "      <td>1</td>\n",
       "      <td>0</td>\n",
       "      <td>0</td>\n",
       "      <td>3</td>\n",
       "      <td>0</td>\n",
       "    </tr>\n",
       "    <tr>\n",
       "      <th>893</th>\n",
       "      <td>7</td>\n",
       "      <td>1</td>\n",
       "      <td>1</td>\n",
       "      <td>2</td>\n",
       "      <td>1</td>\n",
       "      <td>4</td>\n",
       "      <td>0</td>\n",
       "      <td>3</td>\n",
       "      <td>0</td>\n",
       "    </tr>\n",
       "    <tr>\n",
       "      <th>895</th>\n",
       "      <td>5</td>\n",
       "      <td>2</td>\n",
       "      <td>3</td>\n",
       "      <td>0</td>\n",
       "      <td>1</td>\n",
       "      <td>0</td>\n",
       "      <td>2</td>\n",
       "      <td>1</td>\n",
       "      <td>0</td>\n",
       "    </tr>\n",
       "  </tbody>\n",
       "</table>\n",
       "<p>564 rows × 9 columns</p>\n",
       "</div>"
      ],
      "text/plain": [
       "     processor_name  ram_gb  ssd  os  os_bit  graphic_card_gb  weight  \\\n",
       "5                 8       2    2   2       1                0       2   \n",
       "6                 8       1    0   2       0                0       0   \n",
       "8                 8       3    4   2       0                4       0   \n",
       "10                0       1    0   2       1                0       0   \n",
       "12                0       1    0   2       1                0       0   \n",
       "..              ...     ...  ...  ..     ...              ...     ...   \n",
       "888               7       1    1   2       0                6       0   \n",
       "890               7       1    1   2       1                0       0   \n",
       "891               7       1    1   2       1                0       0   \n",
       "893               7       1    1   2       1                4       0   \n",
       "895               5       2    3   0       1                0       2   \n",
       "\n",
       "     display_size  Touchscreen  \n",
       "5               1            0  \n",
       "6               1            0  \n",
       "8               1            0  \n",
       "10              2            0  \n",
       "12              2            0  \n",
       "..            ...          ...  \n",
       "888             3            0  \n",
       "890             3            0  \n",
       "891             3            0  \n",
       "893             3            0  \n",
       "895             1            0  \n",
       "\n",
       "[564 rows x 9 columns]"
      ]
     },
     "execution_count": 32,
     "metadata": {},
     "output_type": "execute_result"
    }
   ],
   "source": [
    "X"
   ]
  },
  {
   "cell_type": "code",
   "execution_count": 33,
   "id": "dfa50e94",
   "metadata": {},
   "outputs": [
    {
     "data": {
      "text/plain": [
       "array([['Core i5', '8 GB GB', '256 GB', 'Windows', '64-bit', '0',\n",
       "        'Casual', '14', 'No']], dtype='<U11')"
      ]
     },
     "execution_count": 33,
     "metadata": {},
     "output_type": "execute_result"
    }
   ],
   "source": [
    "#Test with inputted values \n",
    "X = np.array([[\"Core i5\", \"8 GB GB\", \"256 GB\", \"Windows\", \"64-bit\", 0, \"Casual\", \"14\", \"No\"]])\n",
    "X"
   ]
  },
  {
   "cell_type": "code",
   "execution_count": 34,
   "id": "47878459",
   "metadata": {},
   "outputs": [
    {
     "data": {
      "text/plain": [
       "array([[1., 2., 2., 2., 1., 0., 0., 1., 0.]])"
      ]
     },
     "execution_count": 34,
     "metadata": {},
     "output_type": "execute_result"
    }
   ],
   "source": [
    "X[:, 0] = le_processor_name.transform(X[:,0])\n",
    "X[:, 1] = le_ram_gb.transform(X[:,1])\n",
    "X[:, 2] = le_ssd.transform(X[:,2])\n",
    "X[:, 3] = le_os.transform(X[:,3])\n",
    "X[:, 4] = le_os_bit.transform(X[:,4])\n",
    "X[:, 6] = le_weight.transform(X[:,6])\n",
    "X[:, 7] = le_display_size.transform(X[:,7])\n",
    "X[:, 8] = le_Touchscreen.transform(X[:,8])\n",
    "X = X.astype(float)\n",
    "X"
   ]
  },
  {
   "cell_type": "code",
   "execution_count": 35,
   "id": "2f2ccbfd",
   "metadata": {},
   "outputs": [
    {
     "name": "stderr",
     "output_type": "stream",
     "text": [
      "D:\\Anaconda\\envs\\mlLaptop\\lib\\site-packages\\sklearn\\base.py:450: UserWarning: X does not have valid feature names, but DecisionTreeRegressor was fitted with feature names\n",
      "  warnings.warn(\n"
     ]
    },
    {
     "data": {
      "text/plain": [
       "array([58032.49180328])"
      ]
     },
     "execution_count": 35,
     "metadata": {},
     "output_type": "execute_result"
    }
   ],
   "source": [
    "yPredicted = regressor.predict(X)\n",
    "yPredicted\n",
    "#off by 7000 rupees or 120 CAD"
   ]
  },
  {
   "cell_type": "code",
   "execution_count": 38,
   "id": "dd0daf53",
   "metadata": {},
   "outputs": [],
   "source": [
    "import pickle "
   ]
  },
  {
   "cell_type": "code",
   "execution_count": 39,
   "id": "80676d25",
   "metadata": {},
   "outputs": [],
   "source": [
    "data = {\"model\": regressor, \"le_processor_name\": le_processor_name, \"le_ram_gb\": le_ram_gb, \"le_ssd\": le_ssd, \"le_os\": le_os, \"le_os_bit\": le_os_bit, \"le_weight\": le_weight, \"le_display_size\": le_display_size, \"le_Touchscreen\": le_Touchscreen}\n",
    "\n",
    "with open ('saved_steps.pkl', 'wb') as file:\n",
    "    pickle.dump(data, file)"
   ]
  },
  {
   "cell_type": "code",
   "execution_count": 40,
   "id": "a7161130",
   "metadata": {},
   "outputs": [],
   "source": [
    "with open ('saved_steps.pkl', 'rb') as file:\n",
    "    data = pickle.load(file)\n",
    "    \n",
    "regressorLoaded = data[\"model\"]\n",
    "\n",
    "le_processor_name = data[\"le_processor_name\"]\n",
    "le_ram_gb = data[\"le_ram_gb\"]\n",
    "le_weight = data[\"le_weight\"]\n",
    "le_ssd = data[\"le_ssd\"]\n",
    "le_os = data[\"le_os\"]\n",
    "le_os_bit = data[\"le_os_bit\"]\n",
    "le_display_size = data[\"le_display_size\"]\n",
    "le_Touchscreen = data[\"le_Touchscreen\"]"
   ]
  },
  {
   "cell_type": "code",
   "execution_count": 41,
   "id": "4ef15b67",
   "metadata": {},
   "outputs": [
    {
     "name": "stderr",
     "output_type": "stream",
     "text": [
      "D:\\Anaconda\\envs\\mlLaptop\\lib\\site-packages\\sklearn\\base.py:450: UserWarning: X does not have valid feature names, but DecisionTreeRegressor was fitted with feature names\n",
      "  warnings.warn(\n"
     ]
    },
    {
     "data": {
      "text/plain": [
       "array([58032.49180328])"
      ]
     },
     "execution_count": 41,
     "metadata": {},
     "output_type": "execute_result"
    }
   ],
   "source": [
    "yPredicted = regressorLoaded.predict(X)\n",
    "yPredicted"
   ]
  }
 ],
 "metadata": {
  "kernelspec": {
   "display_name": "mlLaptop",
   "language": "python",
   "name": "mllaptop"
  },
  "language_info": {
   "codemirror_mode": {
    "name": "ipython",
    "version": 3
   },
   "file_extension": ".py",
   "mimetype": "text/x-python",
   "name": "python",
   "nbconvert_exporter": "python",
   "pygments_lexer": "ipython3",
   "version": "3.9.12"
  }
 },
 "nbformat": 4,
 "nbformat_minor": 5
}
